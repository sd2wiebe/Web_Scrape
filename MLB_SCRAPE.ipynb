{
 "cells": [
  {
   "cell_type": "markdown",
   "id": "744be671",
   "metadata": {},
   "source": [
    "\n",
    "# MLB scrape \n"
   ]
  },
  {
   "cell_type": "code",
   "execution_count": 1,
   "id": "7bc0169f",
   "metadata": {},
   "outputs": [
    {
     "name": "stderr",
     "output_type": "stream",
     "text": [
      "\n",
      "\n",
      "====== WebDriver manager ======\n",
      "Current google-chrome version is 99.0.4844\n",
      "Get LATEST chromedriver version for 99.0.4844 google-chrome\n",
      "Trying to download new driver from https://chromedriver.storage.googleapis.com/99.0.4844.51/chromedriver_win32.zip\n",
      "Driver has been saved in cache [C:\\Users\\the_f\\.wdm\\drivers\\chromedriver\\win32\\99.0.4844.51]\n"
     ]
    }
   ],
   "source": [
    "# import libraries\n",
    "import requests  \n",
    "\n",
    "from splinter import Browser\n",
    "\n",
    "from bs4 import BeautifulSoup as soup\n",
    "import pandas as pd\n",
    "from datetime import date as dt\n",
    "from webdriver_manager.chrome import ChromeDriverManager\n",
    "\n",
    " # Initiate headless driver for deployment\n",
    "executable_path = {'executable_path': ChromeDriverManager().install()}\n",
    "browser = Browser('chrome', **executable_path, headless=False)\n"
   ]
  },
  {
   "cell_type": "code",
   "execution_count": 2,
   "id": "0511c36d",
   "metadata": {},
   "outputs": [],
   "source": [
    "# Visit the Quotes to Scrape site\n",
    "url = 'https://www.mlb.com/'\n",
    "browser.visit(url)\n",
    "browser.is_element_present_by_css('div.list_text', wait_time=1)\n",
    "\n",
    "# Convert the browser html to a soup object and then quit the browser\n",
    "html = browser.html\n",
    "news_soup = soup(html, 'html5')"
   ]
  },
  {
   "cell_type": "markdown",
   "id": "542d34a6",
   "metadata": {},
   "source": [
    "# Get headlines with links from mlb.com\n",
    "\n"
   ]
  },
  {
   "cell_type": "code",
   "execution_count": 3,
   "id": "d8a21a34",
   "metadata": {},
   "outputs": [
    {
     "name": "stdout",
     "output_type": "stream",
     "text": [
      "Red Sox land elite infielder Story (source)\n",
      "https://www.mlb.com/news/trevor-story-red-sox-deal\n"
     ]
    }
   ],
   "source": [
    "headline1 = news_soup.find('ul', {\"class\":'p-headline-stack__list p-text-list p-text-list--unstyled'})\n",
    "firsthead = headline1.find(\"li\", {\"class\":'p-headline-stack__headline'}).get_text()\n",
    "el = headline1.find(href=True)\n",
    "print(firsthead)\n",
    "print(el['href'])"
   ]
  },
  {
   "cell_type": "code",
   "execution_count": 4,
   "id": "b58b17bf",
   "metadata": {},
   "outputs": [
    {
     "name": "stdout",
     "output_type": "stream",
     "text": [
      "\u001b[1mRed Sox land elite infielder Story (source)\u001b[0m\n",
      "Link: https://www.mlb.com/news/trevor-story-red-sox-deal\n",
      "\u001b[1mDusty surprised by son Darren during lineup exchange\u001b[0m\n",
      "Link: https://www.mlb.com/news/dusty-darren-baker-exchange-lineup-cards-for-nationals-astros\n",
      "\u001b[1m5 hitters who could bounce back this season\u001b[0m\n",
      "Link: https://www.mlb.com/news/mlb-rebound-hitters-in-2022\n",
      "\u001b[1mYanks add Marwin Gonzalez on Minors deal (source)\u001b[0m\n",
      "Link: https://www.mlb.com/news/marwin-gonzalez-yankees-deal\n",
      "\u001b[1mTwins sign reliever Smith to 1-year deal\u001b[0m\n",
      "Link: https://www.mlb.com/news/joe-smith-signs-with-twins\n",
      "\u001b[1mYanks focusing on pitching help\u001b[0m\n",
      "Link: https://www.mlb.com/news/yankees-rumors-latest-trades-and-signings\n",
      "\u001b[1mSox players buzz about Story: 'That's huge news'\u001b[0m\n",
      "Link: https://www.mlb.com/news/red-sox-players-react-to-trevor-story-deal\n",
      "\u001b[1mBuck says he's still losing money off 'Seinfeld' cameo\u001b[0m\n",
      "Link: https://www.mlb.com/news/buck-showalter-talks-seinfeld-appearance-at-mets-game\n",
      "\u001b[1mNew pitch-calling device a big hit with Rays battery\u001b[0m\n",
      "Link: https://www.mlb.com/news/rays-praise-pitchcom-electronic-pitch-calling-device\n",
      "\u001b[1mJansen fulfills childhood dream in donning Braves uniform\u001b[0m\n",
      "Link: https://www.mlb.com/news/kenley-jansen-had-childhood-dream-to-play-for-braves\n",
      "\u001b[1mFlaherty clarifies his right shoulder injury\u001b[0m\n",
      "Link: https://www.mlb.com/news/jack-flaherty-clarifies-shoulder-injury\n",
      "\u001b[1mAltuve on Correa: 'We’re going to miss him'\u001b[0m\n",
      "Link: https://www.mlb.com/news/jose-altuve-discusses-carlos-correa-twins-deal\n"
     ]
    }
   ],
   "source": [
    "headline1 = news_soup.find('ul', {\"class\":'p-headline-stack__list p-text-list p-text-list--unstyled'})\n",
    "firsthead = headline1.find_all(\"li\", {\"class\":'p-headline-stack__headline'})\n",
    "el = headline1.find(href=True)\n",
    "#print(firsthead)\n",
    "\n",
    "for line in firsthead:\n",
    "    Headlines2 = {}\n",
    "    headline = line.get_text()\n",
    "    el = line.find(href=True)\n",
    "    Headlines2[headline] = el[\"href\"]\n",
    "    \n",
    "    print(\"\\033[1m\" +line.get_text()+'\\033[0m')\n",
    "   \n",
    "    print(\"Link:\" +\" \" +el[\"href\"])\n",
    "   "
   ]
  },
  {
   "cell_type": "code",
   "execution_count": 5,
   "id": "ace35525",
   "metadata": {},
   "outputs": [
    {
     "data": {
      "text/plain": [
       "{\"Altuve on Correa: 'We’re going to miss him'\": 'https://www.mlb.com/news/jose-altuve-discusses-carlos-correa-twins-deal',\n",
       " 'Red Sox land elite infielder Story (source)': 'https://www.mlb.com/news/trevor-story-red-sox-deal',\n",
       " 'Dusty surprised by son Darren during lineup exchange': 'https://www.mlb.com/news/dusty-darren-baker-exchange-lineup-cards-for-nationals-astros',\n",
       " '5 hitters who could bounce back this season': 'https://www.mlb.com/news/mlb-rebound-hitters-in-2022',\n",
       " 'Yanks add Marwin Gonzalez on Minors deal (source)': 'https://www.mlb.com/news/marwin-gonzalez-yankees-deal',\n",
       " 'Twins sign reliever Smith to 1-year deal': 'https://www.mlb.com/news/joe-smith-signs-with-twins',\n",
       " 'Yanks focusing on pitching help': 'https://www.mlb.com/news/yankees-rumors-latest-trades-and-signings',\n",
       " \"Sox players buzz about Story: 'That's huge news'\": 'https://www.mlb.com/news/red-sox-players-react-to-trevor-story-deal',\n",
       " \"Buck says he's still losing money off 'Seinfeld' cameo\": 'https://www.mlb.com/news/buck-showalter-talks-seinfeld-appearance-at-mets-game',\n",
       " 'New pitch-calling device a big hit with Rays battery': 'https://www.mlb.com/news/rays-praise-pitchcom-electronic-pitch-calling-device',\n",
       " 'Jansen fulfills childhood dream in donning Braves uniform': 'https://www.mlb.com/news/kenley-jansen-had-childhood-dream-to-play-for-braves',\n",
       " 'Flaherty clarifies his right shoulder injury': 'https://www.mlb.com/news/jack-flaherty-clarifies-shoulder-injury'}"
      ]
     },
     "execution_count": 5,
     "metadata": {},
     "output_type": "execute_result"
    }
   ],
   "source": [
    "for line in firsthead:\n",
    "    \n",
    "    headline = line.get_text()\n",
    "    el = line.find(href=True)\n",
    "    Headlines2[headline] = el[\"href\"]\n",
    "Headlines2"
   ]
  },
  {
   "cell_type": "code",
   "execution_count": 6,
   "id": "a78de111",
   "metadata": {},
   "outputs": [
    {
     "data": {
      "text/html": [
       "<div>\n",
       "<style scoped>\n",
       "    .dataframe tbody tr th:only-of-type {\n",
       "        vertical-align: middle;\n",
       "    }\n",
       "\n",
       "    .dataframe tbody tr th {\n",
       "        vertical-align: top;\n",
       "    }\n",
       "\n",
       "    .dataframe thead th {\n",
       "        text-align: right;\n",
       "    }\n",
       "</style>\n",
       "<table border=\"1\" class=\"dataframe\">\n",
       "  <thead>\n",
       "    <tr style=\"text-align: right;\">\n",
       "      <th></th>\n",
       "      <th>Headlines</th>\n",
       "      <th>Link</th>\n",
       "    </tr>\n",
       "  </thead>\n",
       "  <tbody>\n",
       "    <tr>\n",
       "      <th>0</th>\n",
       "      <td>Red Sox land elite infielder Story (source)</td>\n",
       "      <td>https://www.mlb.com/news/trevor-story-red-sox-...</td>\n",
       "    </tr>\n",
       "    <tr>\n",
       "      <th>1</th>\n",
       "      <td>Dusty surprised by son Darren during lineup ex...</td>\n",
       "      <td>https://www.mlb.com/news/dusty-darren-baker-ex...</td>\n",
       "    </tr>\n",
       "    <tr>\n",
       "      <th>2</th>\n",
       "      <td>5 hitters who could bounce back this season</td>\n",
       "      <td>https://www.mlb.com/news/mlb-rebound-hitters-i...</td>\n",
       "    </tr>\n",
       "    <tr>\n",
       "      <th>3</th>\n",
       "      <td>Yanks add Marwin Gonzalez on Minors deal (source)</td>\n",
       "      <td>https://www.mlb.com/news/marwin-gonzalez-yanke...</td>\n",
       "    </tr>\n",
       "    <tr>\n",
       "      <th>4</th>\n",
       "      <td>Twins sign reliever Smith to 1-year deal</td>\n",
       "      <td>https://www.mlb.com/news/joe-smith-signs-with-...</td>\n",
       "    </tr>\n",
       "    <tr>\n",
       "      <th>5</th>\n",
       "      <td>Yanks focusing on pitching help</td>\n",
       "      <td>https://www.mlb.com/news/yankees-rumors-latest...</td>\n",
       "    </tr>\n",
       "    <tr>\n",
       "      <th>6</th>\n",
       "      <td>Sox players buzz about Story: 'That's huge news'</td>\n",
       "      <td>https://www.mlb.com/news/red-sox-players-react...</td>\n",
       "    </tr>\n",
       "    <tr>\n",
       "      <th>7</th>\n",
       "      <td>Buck says he's still losing money off 'Seinfel...</td>\n",
       "      <td>https://www.mlb.com/news/buck-showalter-talks-...</td>\n",
       "    </tr>\n",
       "    <tr>\n",
       "      <th>8</th>\n",
       "      <td>New pitch-calling device a big hit with Rays b...</td>\n",
       "      <td>https://www.mlb.com/news/rays-praise-pitchcom-...</td>\n",
       "    </tr>\n",
       "    <tr>\n",
       "      <th>9</th>\n",
       "      <td>Jansen fulfills childhood dream in donning Bra...</td>\n",
       "      <td>https://www.mlb.com/news/kenley-jansen-had-chi...</td>\n",
       "    </tr>\n",
       "    <tr>\n",
       "      <th>10</th>\n",
       "      <td>Flaherty clarifies his right shoulder injury</td>\n",
       "      <td>https://www.mlb.com/news/jack-flaherty-clarifi...</td>\n",
       "    </tr>\n",
       "    <tr>\n",
       "      <th>11</th>\n",
       "      <td>Altuve on Correa: 'We’re going to miss him'</td>\n",
       "      <td>https://www.mlb.com/news/jose-altuve-discusses...</td>\n",
       "    </tr>\n",
       "  </tbody>\n",
       "</table>\n",
       "</div>"
      ],
      "text/plain": [
       "                                            Headlines  \\\n",
       "0         Red Sox land elite infielder Story (source)   \n",
       "1   Dusty surprised by son Darren during lineup ex...   \n",
       "2         5 hitters who could bounce back this season   \n",
       "3   Yanks add Marwin Gonzalez on Minors deal (source)   \n",
       "4            Twins sign reliever Smith to 1-year deal   \n",
       "5                     Yanks focusing on pitching help   \n",
       "6    Sox players buzz about Story: 'That's huge news'   \n",
       "7   Buck says he's still losing money off 'Seinfel...   \n",
       "8   New pitch-calling device a big hit with Rays b...   \n",
       "9   Jansen fulfills childhood dream in donning Bra...   \n",
       "10       Flaherty clarifies his right shoulder injury   \n",
       "11        Altuve on Correa: 'We’re going to miss him'   \n",
       "\n",
       "                                                 Link  \n",
       "0   https://www.mlb.com/news/trevor-story-red-sox-...  \n",
       "1   https://www.mlb.com/news/dusty-darren-baker-ex...  \n",
       "2   https://www.mlb.com/news/mlb-rebound-hitters-i...  \n",
       "3   https://www.mlb.com/news/marwin-gonzalez-yanke...  \n",
       "4   https://www.mlb.com/news/joe-smith-signs-with-...  \n",
       "5   https://www.mlb.com/news/yankees-rumors-latest...  \n",
       "6   https://www.mlb.com/news/red-sox-players-react...  \n",
       "7   https://www.mlb.com/news/buck-showalter-talks-...  \n",
       "8   https://www.mlb.com/news/rays-praise-pitchcom-...  \n",
       "9   https://www.mlb.com/news/kenley-jansen-had-chi...  \n",
       "10  https://www.mlb.com/news/jack-flaherty-clarifi...  \n",
       "11  https://www.mlb.com/news/jose-altuve-discusses...  "
      ]
     },
     "execution_count": 6,
     "metadata": {},
     "output_type": "execute_result"
    }
   ],
   "source": [
    "MLB_headlines_today = pd.DataFrame({\"Headlines\": [],\n",
    "                   \"Link\": []})\n",
    "i = 0\n",
    "for line in firsthead:\n",
    "    headline = line.get_text()\n",
    "    el = line.find(href=True)\n",
    "    link = el[\"href\"]\n",
    "    MLB_headlines_today.loc[i] = [headline, link]\n",
    "    i = i +1\n",
    "    \n",
    "MLB_headlines_today"
   ]
  },
  {
   "cell_type": "code",
   "execution_count": 7,
   "id": "e338c1de",
   "metadata": {},
   "outputs": [],
   "source": [
    "#MLB_headlines_today.to_csv('MLB_Headlines_Today.csv', index=False)"
   ]
  },
  {
   "cell_type": "code",
   "execution_count": 8,
   "id": "9e98682d",
   "metadata": {},
   "outputs": [
    {
     "name": "stdout",
     "output_type": "stream",
     "text": [
      "MLB_Headlines_2022-03-20.csv\n"
     ]
    }
   ],
   "source": [
    "todaysdate = dt.today()\n",
    "print(f'MLB_Headlines_{todaysdate}.csv')\n",
    "filename = f'MLB_Headlines_{todaysdate}.csv'"
   ]
  },
  {
   "cell_type": "code",
   "execution_count": 10,
   "id": "17d968be",
   "metadata": {},
   "outputs": [],
   "source": [
    "MLB_headlines_today.to_csv(filename, index=False)"
   ]
  },
  {
   "cell_type": "code",
   "execution_count": null,
   "id": "61863998",
   "metadata": {},
   "outputs": [],
   "source": []
  }
 ],
 "metadata": {
  "kernelspec": {
   "display_name": "Python 3 (ipykernel)",
   "language": "python",
   "name": "python3"
  },
  "language_info": {
   "codemirror_mode": {
    "name": "ipython",
    "version": 3
   },
   "file_extension": ".py",
   "mimetype": "text/x-python",
   "name": "python",
   "nbconvert_exporter": "python",
   "pygments_lexer": "ipython3",
   "version": "3.10.2"
  }
 },
 "nbformat": 4,
 "nbformat_minor": 5
}
